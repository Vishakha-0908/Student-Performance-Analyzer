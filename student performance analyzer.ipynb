{
 "cells": [
  {
   "cell_type": "code",
   "execution_count": null,
   "id": "c867f344-3ae9-4dfd-9bb8-38cec7386103",
   "metadata": {},
   "outputs": [
    {
     "name": "stdin",
     "output_type": "stream",
     "text": [
      "Enter number of students:  10\n"
     ]
    },
    {
     "name": "stdout",
     "output_type": "stream",
     "text": [
      "\n",
      "Enter details for student 1:\n"
     ]
    },
    {
     "name": "stdin",
     "output_type": "stream",
     "text": [
      "Name:  Vishakha\n",
      "Roll No:  1\n",
      "Age:  14\n",
      "Class:  10\n",
      "Enter marks for subject 1:  89\n",
      "Enter marks for subject 2:  96\n",
      "Enter marks for subject 3:  97\n"
     ]
    },
    {
     "name": "stdout",
     "output_type": "stream",
     "text": [
      "\n",
      "Enter details for student 2:\n"
     ]
    },
    {
     "name": "stdin",
     "output_type": "stream",
     "text": [
      "Name:  Vinit\n",
      "Roll No:  2\n",
      "Age:  15\n",
      "Class:  10\n",
      "Enter marks for subject 1:  78\n",
      "Enter marks for subject 2:  96\n",
      "Enter marks for subject 3:  90\n"
     ]
    },
    {
     "name": "stdout",
     "output_type": "stream",
     "text": [
      "\n",
      "Enter details for student 3:\n"
     ]
    },
    {
     "name": "stdin",
     "output_type": "stream",
     "text": [
      "Name:  Harshal\n",
      "Roll No:  3\n",
      "Age:  16\n",
      "Class:  10\n",
      "Enter marks for subject 1:  90\n",
      "Enter marks for subject 2:  67\n",
      "Enter marks for subject 3:  96\n"
     ]
    },
    {
     "name": "stdout",
     "output_type": "stream",
     "text": [
      "\n",
      "Enter details for student 4:\n"
     ]
    },
    {
     "name": "stdin",
     "output_type": "stream",
     "text": [
      "Name:  Jagruti\n",
      "Roll No:  4\n",
      "Age:  15\n",
      "Class:  10\n",
      "Enter marks for subject 1:  67\n",
      "Enter marks for subject 2:  77\n",
      "Enter marks for subject 3:  75\n"
     ]
    },
    {
     "name": "stdout",
     "output_type": "stream",
     "text": [
      "\n",
      "Enter details for student 5:\n"
     ]
    },
    {
     "name": "stdin",
     "output_type": "stream",
     "text": [
      "Name:  Vaishnavi\n",
      "Roll No:  5\n",
      "Age:  15\n",
      "Class:  10\n",
      "Enter marks for subject 1:  87\n",
      "Enter marks for subject 2:  89\n",
      "Enter marks for subject 3:  98\n"
     ]
    },
    {
     "name": "stdout",
     "output_type": "stream",
     "text": [
      "\n",
      "Enter details for student 6:\n"
     ]
    },
    {
     "name": "stdin",
     "output_type": "stream",
     "text": [
      "Name:  Yadnesh\n",
      "Roll No:  6\n",
      "Age:  16\n",
      "Class:  10\n",
      "Enter marks for subject 1:  74\n",
      "Enter marks for subject 2:  96\n",
      "Enter marks for subject 3:  69\n"
     ]
    },
    {
     "name": "stdout",
     "output_type": "stream",
     "text": [
      "\n",
      "Enter details for student 7:\n"
     ]
    },
    {
     "name": "stdin",
     "output_type": "stream",
     "text": [
      "Name:  Shreeya\n",
      "Roll No:  7\n",
      "Age:  15\n",
      "Class:  10\n",
      "Enter marks for subject 1:  89\n",
      "Enter marks for subject 2:  78\n",
      "Enter marks for subject 3:  80\n"
     ]
    },
    {
     "name": "stdout",
     "output_type": "stream",
     "text": [
      "\n",
      "Enter details for student 8:\n"
     ]
    },
    {
     "name": "stdin",
     "output_type": "stream",
     "text": [
      "Name:  Swara\n",
      "Roll No:  8\n",
      "Age:  16\n",
      "Class:  10\n",
      "Enter marks for subject 1:  99\n",
      "Enter marks for subject 2:  86\n",
      "Enter marks for subject 3:  67\n"
     ]
    },
    {
     "name": "stdout",
     "output_type": "stream",
     "text": [
      "\n",
      "Enter details for student 9:\n"
     ]
    },
    {
     "name": "stdin",
     "output_type": "stream",
     "text": [
      "Name:  Nimish\n",
      "Roll No:  9\n",
      "Age:  16\n",
      "Class:  10\n",
      "Enter marks for subject 1:  90\n",
      "Enter marks for subject 2:  78\n",
      "Enter marks for subject 3:  99\n"
     ]
    },
    {
     "name": "stdout",
     "output_type": "stream",
     "text": [
      "\n",
      "Enter details for student 10:\n"
     ]
    },
    {
     "name": "stdin",
     "output_type": "stream",
     "text": [
      "Name:  Jayanti\n",
      "Roll No:  10\n",
      "Age:  15\n",
      "Class:  10\n",
      "Enter marks for subject 1:  87\n",
      "Enter marks for subject 2:  77\n"
     ]
    }
   ],
   "source": [
    "import numpy as np\n",
    "import pandas as pd\n",
    "\n",
    "\n",
    "class Student:\n",
    "    def __init__(self, name, roll_no, age, student_class, marks):\n",
    "        self.name = name\n",
    "        self.roll_no = roll_no\n",
    "        self.age = age\n",
    "        self.student_class = student_class\n",
    "        self.marks = np.array(marks, dtype=float) \n",
    "\n",
    "    def display_details(self):\n",
    "        print(f\"Name: {self.name}, Roll No: {self.roll_no}, Age: {self.age}, Class: {self.student_class}\")\n",
    "        print(f\"Marks: {self.marks}, Average: {np.mean(self.marks):.2f}, Grade: {self.calculate_grade()}\")\n",
    "\n",
    "    def calculate_grade(self):\n",
    "        avg = np.mean(self.marks)\n",
    "        if avg >= 90:\n",
    "            return \"A\"\n",
    "        elif avg >= 75:\n",
    "            return \"B\"\n",
    "        elif avg >= 50:\n",
    "            return \"C\"\n",
    "        else:\n",
    "            return \"D\"\n",
    "\n",
    "\n",
    "class Classroom:\n",
    "    def __init__(self):\n",
    "        self.students = []\n",
    "\n",
    "    def add_student(self, student):\n",
    "        self.students.append(student)\n",
    "\n",
    "    def remove_student(self, roll_no):\n",
    "        self.students = [s for s in self.students if s.roll_no != roll_no]\n",
    "\n",
    "    def overall_performance(self):\n",
    "        if not self.students:\n",
    "            return None\n",
    "        all_marks = np.array([s.marks for s in self.students])\n",
    "        return {\n",
    "            \"mean\": np.mean(all_marks),\n",
    "            \"median\": np.median(all_marks),\n",
    "            \"std_dev\": np.std(all_marks)\n",
    "        }\n",
    "\n",
    "    def to_dataframe(self):\n",
    "        data = {\n",
    "            \"Name\": [s.name for s in self.students],\n",
    "            \"Roll No\": [s.roll_no for s in self.students],\n",
    "            \"Age\": [s.age for s in self.students],\n",
    "            \"Class\": [s.student_class for s in self.students],\n",
    "            \"Average Marks\": [np.mean(s.marks) for s in self.students],\n",
    "            \"Grade\": [s.calculate_grade() for s in self.students]\n",
    "        }\n",
    "        return pd.DataFrame(data)\n",
    "\n",
    "\n",
    "\n",
    "def safe_input(prompt, dtype=int):\n",
    "    while True:\n",
    "        try:\n",
    "            value = dtype(input(prompt))\n",
    "            return value\n",
    "        except ValueError:\n",
    "            print(f\"Invalid input! Please enter a valid {dtype.__name__}.\")\n",
    "\n",
    "\n",
    "\n",
    "if __name__ == \"__main__\":\n",
    "    classroom = Classroom()\n",
    "\n",
    "    try:\n",
    "        n = safe_input(\"Enter number of students: \", int)\n",
    "\n",
    "        for i in range(n):\n",
    "            print(f\"\\nEnter details for student {i+1}:\")\n",
    "            name = input(\"Name: \")\n",
    "            roll_no = safe_input(\"Roll No: \", int)\n",
    "            age = safe_input(\"Age: \", int)\n",
    "            student_class = safe_input(\"Class: \", int)\n",
    "            marks = []\n",
    "\n",
    "            for j in range(3): \n",
    "                mark = safe_input(f\"Enter marks for subject {j+1}: \", float)\n",
    "                marks.append(mark)\n",
    "\n",
    "            student = Student(name, roll_no, age, student_class, marks)\n",
    "            classroom.add_student(student)\n",
    "\n",
    "        # Display details of all students\n",
    "        print(\"\\n---- Student Details ----\")\n",
    "        for s in classroom.students:\n",
    "            s.display_details()\n",
    "\n",
    "        # Overall performance\n",
    "        print(\"\\n---- Overall Class Performance ----\")\n",
    "        print(classroom.overall_performance())\n",
    "\n",
    "        # Pandas DataFrame\n",
    "        df = classroom.to_dataframe()\n",
    "        print(\"\\n---- DataFrame ----\")\n",
    "        print(df)\n",
    "\n",
    "        # Pandas operations\n",
    "        print(\"\\nTop 5 Students:\")\n",
    "        print(df.nlargest(5, \"Average Marks\"))\n",
    "        print(\"\\nBottom 5 Students:\")\n",
    "        print(df.nsmallest(5, \"Average Marks\"))\n",
    "        print(\"\\nAverage Marks by Class:\")\n",
    "        print(df.groupby(\"Class\")[\"Average Marks\"].mean())\n",
    "\n",
    "        # Save report\n",
    "        try:\n",
    "            df.to_csv(\"student_report.csv\", index=False)\n",
    "            print(\"\\nReport saved to student_report.csv\")\n",
    "        except Exception as e:\n",
    "            print(\"Error saving file:\", e)\n",
    "\n",
    "    except Exception as e:\n",
    "        print(\"An error occurred:\", e)"
   ]
  }
 ],
 "metadata": {
  "kernelspec": {
   "display_name": "Python 3 (ipykernel)",
   "language": "python",
   "name": "python3"
  },
  "language_info": {
   "codemirror_mode": {
    "name": "ipython",
    "version": 3
   },
   "file_extension": ".py",
   "mimetype": "text/x-python",
   "name": "python",
   "nbconvert_exporter": "python",
   "pygments_lexer": "ipython3",
   "version": "3.12.4"
  }
 },
 "nbformat": 4,
 "nbformat_minor": 5
}
